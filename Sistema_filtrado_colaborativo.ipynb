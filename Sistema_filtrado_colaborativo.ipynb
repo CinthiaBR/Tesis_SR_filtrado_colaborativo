{
 "cells": [
  {
   "cell_type": "markdown",
   "metadata": {
    "pycharm": {
     "name": "#%% md\n"
    }
   },
   "source": [
    "Data Load"
   ]
  },
  {
   "cell_type": "code",
   "execution_count": 1,
   "metadata": {},
   "outputs": [],
   "source": [
    "import pandas as pd\n",
    "import numpy as np\n"
   ]
  },
  {
   "cell_type": "code",
   "execution_count": 26,
   "metadata": {
    "collapsed": true
   },
   "outputs": [
    {
     "name": "stdout",
     "output_type": "stream",
     "text": [
      "Requirement already satisfied: scikit-surprise in c:\\programdata\\anaconda3\\lib\\site-packages (1.1.1)\n",
      "Requirement already satisfied: joblib>=0.11 in c:\\programdata\\anaconda3\\lib\\site-packages (from scikit-surprise) (1.1.0)\n",
      "Requirement already satisfied: numpy>=1.11.2 in c:\\programdata\\anaconda3\\lib\\site-packages (from scikit-surprise) (1.20.3)\n",
      "Requirement already satisfied: scipy>=1.0.0 in c:\\programdata\\anaconda3\\lib\\site-packages (from scikit-surprise) (1.7.1)\n",
      "Requirement already satisfied: six>=1.10.0 in c:\\programdata\\anaconda3\\lib\\site-packages (from scikit-surprise) (1.16.0)\n"
     ]
    }
   ],
   "source": [
    "!pip install scikit-surprise"
   ]
  },
  {
   "cell_type": "code",
   "execution_count": 4,
   "metadata": {},
   "outputs": [
    {
     "name": "stderr",
     "output_type": "stream",
     "text": [
      "C:\\ProgramData\\Anaconda3\\lib\\site-packages\\numpy\\lib\\arraysetops.py:583: FutureWarning: elementwise comparison failed; returning scalar instead, but in the future will perform elementwise comparison\n",
      "  mask |= (ar1 == a)\n"
     ]
    },
    {
     "data": {
      "text/html": [
       "<div>\n",
       "<style scoped>\n",
       "    .dataframe tbody tr th:only-of-type {\n",
       "        vertical-align: middle;\n",
       "    }\n",
       "\n",
       "    .dataframe tbody tr th {\n",
       "        vertical-align: top;\n",
       "    }\n",
       "\n",
       "    .dataframe thead th {\n",
       "        text-align: right;\n",
       "    }\n",
       "</style>\n",
       "<table border=\"1\" class=\"dataframe\">\n",
       "  <thead>\n",
       "    <tr style=\"text-align: right;\">\n",
       "      <th></th>\n",
       "      <th>compound_id</th>\n",
       "      <th>cell_id</th>\n",
       "      <th>interaction</th>\n",
       "    </tr>\n",
       "  </thead>\n",
       "  <tbody>\n",
       "    <tr>\n",
       "      <th>0</th>\n",
       "      <td>556</td>\n",
       "      <td>163</td>\n",
       "      <td>-1</td>\n",
       "    </tr>\n",
       "    <tr>\n",
       "      <th>1</th>\n",
       "      <td>82983</td>\n",
       "      <td>163</td>\n",
       "      <td>-1</td>\n",
       "    </tr>\n",
       "    <tr>\n",
       "      <th>2</th>\n",
       "      <td>1633207</td>\n",
       "      <td>163</td>\n",
       "      <td>-1</td>\n",
       "    </tr>\n",
       "    <tr>\n",
       "      <th>3</th>\n",
       "      <td>1633675</td>\n",
       "      <td>163</td>\n",
       "      <td>1</td>\n",
       "    </tr>\n",
       "    <tr>\n",
       "      <th>4</th>\n",
       "      <td>47675</td>\n",
       "      <td>163</td>\n",
       "      <td>-1</td>\n",
       "    </tr>\n",
       "    <tr>\n",
       "      <th>...</th>\n",
       "      <td>...</td>\n",
       "      <td>...</td>\n",
       "      <td>...</td>\n",
       "    </tr>\n",
       "    <tr>\n",
       "      <th>5590379</th>\n",
       "      <td>2474237</td>\n",
       "      <td>722</td>\n",
       "      <td>-1</td>\n",
       "    </tr>\n",
       "    <tr>\n",
       "      <th>5590380</th>\n",
       "      <td>2471480</td>\n",
       "      <td>722</td>\n",
       "      <td>-1</td>\n",
       "    </tr>\n",
       "    <tr>\n",
       "      <th>5590381</th>\n",
       "      <td>2484849</td>\n",
       "      <td>722</td>\n",
       "      <td>-1</td>\n",
       "    </tr>\n",
       "    <tr>\n",
       "      <th>5590382</th>\n",
       "      <td>2471256</td>\n",
       "      <td>722</td>\n",
       "      <td>-1</td>\n",
       "    </tr>\n",
       "    <tr>\n",
       "      <th>5590383</th>\n",
       "      <td>2479248</td>\n",
       "      <td>722</td>\n",
       "      <td>-1</td>\n",
       "    </tr>\n",
       "  </tbody>\n",
       "</table>\n",
       "<p>1159929 rows × 3 columns</p>\n",
       "</div>"
      ],
      "text/plain": [
       "         compound_id  cell_id  interaction\n",
       "0                556      163           -1\n",
       "1              82983      163           -1\n",
       "2            1633207      163           -1\n",
       "3            1633675      163            1\n",
       "4              47675      163           -1\n",
       "...              ...      ...          ...\n",
       "5590379      2474237      722           -1\n",
       "5590380      2471480      722           -1\n",
       "5590381      2484849      722           -1\n",
       "5590382      2471256      722           -1\n",
       "5590383      2479248      722           -1\n",
       "\n",
       "[1159929 rows x 3 columns]"
      ]
     },
     "execution_count": 4,
     "metadata": {},
     "output_type": "execute_result"
    }
   ],
   "source": [
    "data_interaction_v29 = pd.read_csv(filepath_or_buffer='data_interaction_v29_-1_1.csv', index_col=0)\n",
    "data_interaction_v30 = pd.read_csv(filepath_or_buffer='data_interaction_v30_-1_1.csv', index_col=0)\n",
    "data_interaction_v29\n"
   ]
  },
  {
   "cell_type": "code",
   "execution_count": 28,
   "metadata": {},
   "outputs": [
    {
     "data": {
      "text/html": [
       "<div>\n",
       "<style scoped>\n",
       "    .dataframe tbody tr th:only-of-type {\n",
       "        vertical-align: middle;\n",
       "    }\n",
       "\n",
       "    .dataframe tbody tr th {\n",
       "        vertical-align: top;\n",
       "    }\n",
       "\n",
       "    .dataframe thead th {\n",
       "        text-align: right;\n",
       "    }\n",
       "</style>\n",
       "<table border=\"1\" class=\"dataframe\">\n",
       "  <thead>\n",
       "    <tr style=\"text-align: right;\">\n",
       "      <th></th>\n",
       "      <th>compound_id</th>\n",
       "      <th>cell_id</th>\n",
       "      <th>interaction</th>\n",
       "    </tr>\n",
       "  </thead>\n",
       "  <tbody>\n",
       "    <tr>\n",
       "      <th>0</th>\n",
       "      <td>556</td>\n",
       "      <td>163</td>\n",
       "      <td>-1</td>\n",
       "    </tr>\n",
       "    <tr>\n",
       "      <th>1</th>\n",
       "      <td>82983</td>\n",
       "      <td>163</td>\n",
       "      <td>-1</td>\n",
       "    </tr>\n",
       "    <tr>\n",
       "      <th>2</th>\n",
       "      <td>1633207</td>\n",
       "      <td>163</td>\n",
       "      <td>-1</td>\n",
       "    </tr>\n",
       "    <tr>\n",
       "      <th>3</th>\n",
       "      <td>1633675</td>\n",
       "      <td>163</td>\n",
       "      <td>1</td>\n",
       "    </tr>\n",
       "    <tr>\n",
       "      <th>4</th>\n",
       "      <td>47675</td>\n",
       "      <td>163</td>\n",
       "      <td>-1</td>\n",
       "    </tr>\n",
       "    <tr>\n",
       "      <th>...</th>\n",
       "      <td>...</td>\n",
       "      <td>...</td>\n",
       "      <td>...</td>\n",
       "    </tr>\n",
       "    <tr>\n",
       "      <th>5986966</th>\n",
       "      <td>2536230</td>\n",
       "      <td>324</td>\n",
       "      <td>1</td>\n",
       "    </tr>\n",
       "    <tr>\n",
       "      <th>5986967</th>\n",
       "      <td>2520968</td>\n",
       "      <td>324</td>\n",
       "      <td>1</td>\n",
       "    </tr>\n",
       "    <tr>\n",
       "      <th>5987006</th>\n",
       "      <td>2516709</td>\n",
       "      <td>325</td>\n",
       "      <td>-1</td>\n",
       "    </tr>\n",
       "    <tr>\n",
       "      <th>5987007</th>\n",
       "      <td>2521966</td>\n",
       "      <td>325</td>\n",
       "      <td>-1</td>\n",
       "    </tr>\n",
       "    <tr>\n",
       "      <th>5987085</th>\n",
       "      <td>9459</td>\n",
       "      <td>559</td>\n",
       "      <td>1</td>\n",
       "    </tr>\n",
       "  </tbody>\n",
       "</table>\n",
       "<p>1237290 rows × 3 columns</p>\n",
       "</div>"
      ],
      "text/plain": [
       "         compound_id  cell_id  interaction\n",
       "0                556      163           -1\n",
       "1              82983      163           -1\n",
       "2            1633207      163           -1\n",
       "3            1633675      163            1\n",
       "4              47675      163           -1\n",
       "...              ...      ...          ...\n",
       "5986966      2536230      324            1\n",
       "5986967      2520968      324            1\n",
       "5987006      2516709      325           -1\n",
       "5987007      2521966      325           -1\n",
       "5987085         9459      559            1\n",
       "\n",
       "[1237290 rows x 3 columns]"
      ]
     },
     "execution_count": 28,
     "metadata": {},
     "output_type": "execute_result"
    }
   ],
   "source": [
    "data_interaction_v30"
   ]
  },
  {
   "cell_type": "markdown",
   "metadata": {
    "pycharm": {
     "name": "#%% md\n"
    }
   },
   "source": [
    "Recommender System"
   ]
  },
  {
   "cell_type": "code",
   "execution_count": 29,
   "metadata": {},
   "outputs": [],
   "source": [
    "from surprise import NormalPredictor\n",
    "from surprise import Dataset\n",
    "from surprise import Reader\n",
    "from surprise.model_selection import cross_validate\n",
    "from surprise.model_selection import GridSearchCV\n",
    "from surprise import SVD\n",
    "from surprise import KNNBaseline\n",
    "from surprise import accuracy\n",
    "\n",
    "#La diferencia del conjunto de datos debe calcularse a partir de la prueba de pares de entrenamiento\n",
    "def diff_df(old_df, new_df):\n",
    "    return new_df[~new_df.apply(tuple,1).isin(old_df.apply(tuple,1))]\n",
    "\n",
    "diff = diff_df(old_df=data_interaction_v29, new_df=data_interaction_v30)"
   ]
  },
  {
   "cell_type": "code",
   "execution_count": 30,
   "metadata": {},
   "outputs": [
    {
     "data": {
      "text/html": [
       "<div>\n",
       "<style scoped>\n",
       "    .dataframe tbody tr th:only-of-type {\n",
       "        vertical-align: middle;\n",
       "    }\n",
       "\n",
       "    .dataframe tbody tr th {\n",
       "        vertical-align: top;\n",
       "    }\n",
       "\n",
       "    .dataframe thead th {\n",
       "        text-align: right;\n",
       "    }\n",
       "</style>\n",
       "<table border=\"1\" class=\"dataframe\">\n",
       "  <thead>\n",
       "    <tr style=\"text-align: right;\">\n",
       "      <th></th>\n",
       "      <th>compound_id</th>\n",
       "      <th>cell_id</th>\n",
       "      <th>interaction</th>\n",
       "    </tr>\n",
       "  </thead>\n",
       "  <tbody>\n",
       "    <tr>\n",
       "      <th>297523</th>\n",
       "      <td>350494</td>\n",
       "      <td>754</td>\n",
       "      <td>1</td>\n",
       "    </tr>\n",
       "    <tr>\n",
       "      <th>314620</th>\n",
       "      <td>363890</td>\n",
       "      <td>1430</td>\n",
       "      <td>1</td>\n",
       "    </tr>\n",
       "    <tr>\n",
       "      <th>314621</th>\n",
       "      <td>363889</td>\n",
       "      <td>1430</td>\n",
       "      <td>1</td>\n",
       "    </tr>\n",
       "    <tr>\n",
       "      <th>314622</th>\n",
       "      <td>363883</td>\n",
       "      <td>1430</td>\n",
       "      <td>1</td>\n",
       "    </tr>\n",
       "    <tr>\n",
       "      <th>314623</th>\n",
       "      <td>363882</td>\n",
       "      <td>1430</td>\n",
       "      <td>1</td>\n",
       "    </tr>\n",
       "    <tr>\n",
       "      <th>...</th>\n",
       "      <td>...</td>\n",
       "      <td>...</td>\n",
       "      <td>...</td>\n",
       "    </tr>\n",
       "    <tr>\n",
       "      <th>5986966</th>\n",
       "      <td>2536230</td>\n",
       "      <td>324</td>\n",
       "      <td>1</td>\n",
       "    </tr>\n",
       "    <tr>\n",
       "      <th>5986967</th>\n",
       "      <td>2520968</td>\n",
       "      <td>324</td>\n",
       "      <td>1</td>\n",
       "    </tr>\n",
       "    <tr>\n",
       "      <th>5987006</th>\n",
       "      <td>2516709</td>\n",
       "      <td>325</td>\n",
       "      <td>-1</td>\n",
       "    </tr>\n",
       "    <tr>\n",
       "      <th>5987007</th>\n",
       "      <td>2521966</td>\n",
       "      <td>325</td>\n",
       "      <td>-1</td>\n",
       "    </tr>\n",
       "    <tr>\n",
       "      <th>5987085</th>\n",
       "      <td>9459</td>\n",
       "      <td>559</td>\n",
       "      <td>1</td>\n",
       "    </tr>\n",
       "  </tbody>\n",
       "</table>\n",
       "<p>72916 rows × 3 columns</p>\n",
       "</div>"
      ],
      "text/plain": [
       "         compound_id  cell_id  interaction\n",
       "297523        350494      754            1\n",
       "314620        363890     1430            1\n",
       "314621        363889     1430            1\n",
       "314622        363883     1430            1\n",
       "314623        363882     1430            1\n",
       "...              ...      ...          ...\n",
       "5986966      2536230      324            1\n",
       "5986967      2520968      324            1\n",
       "5987006      2516709      325           -1\n",
       "5987007      2521966      325           -1\n",
       "5987085         9459      559            1\n",
       "\n",
       "[72916 rows x 3 columns]"
      ]
     },
     "execution_count": 30,
     "metadata": {},
     "output_type": "execute_result"
    }
   ],
   "source": [
    "diff"
   ]
  },
  {
   "cell_type": "code",
   "execution_count": 31,
   "metadata": {},
   "outputs": [],
   "source": [
    "reader = Reader(rating_scale=(-1, 1))\n",
    "data = Dataset.load_from_df(data_interaction_v29[['compound_id', 'cell_id', 'interaction']], reader)\n"
   ]
  },
  {
   "cell_type": "code",
   "execution_count": 32,
   "metadata": {},
   "outputs": [],
   "source": [
    "param_grid = {'n_factors': [10], #Best is: 10\n",
    "              'n_epochs': [300], #Best is: 300\n",
    "              'lr_all': [0.002], #Best is .002\n",
    "              'reg_all': [0.1], #Best is .1\n",
    "              'biased' : [True]\n",
    "              # 'sim_options': {'user_based': [False, True]}\n",
    "              }"
   ]
  },
  {
   "cell_type": "code",
   "execution_count": 33,
   "metadata": {},
   "outputs": [
    {
     "name": "stdout",
     "output_type": "stream",
     "text": [
      "Grid Search...\n"
     ]
    }
   ],
   "source": [
    "print('Grid Search...')\n",
    "grid_search = GridSearchCV(SVD, param_grid=param_grid, measures=['rmse'], cv=10, n_jobs=-1, refit=True)\n",
    "grid_search.fit(data)"
   ]
  },
  {
   "cell_type": "code",
   "execution_count": 34,
   "metadata": {},
   "outputs": [
    {
     "name": "stdout",
     "output_type": "stream",
     "text": [
      "<surprise.prediction_algorithms.matrix_factorization.SVD object at 0x0000010C354C7490>\n",
      "Biased accuracy on v29,   RMSE: 0.5446\n"
     ]
    },
    {
     "data": {
      "text/plain": [
       "0.5445882319177195"
      ]
     },
     "execution_count": 34,
     "metadata": {},
     "output_type": "execute_result"
    }
   ],
   "source": [
    "algo = grid_search.best_estimator['rmse']\n",
    "print(algo)\n",
    "\n",
    "trainset = data.build_full_trainset()\n",
    "algo.fit(trainset)\n",
    "predictions = algo.test(trainset.build_testset())\n",
    "print('Biased accuracy on v29,', end='   ')\n",
    "accuracy.rmse(predictions)"
   ]
  },
  {
   "cell_type": "code",
   "execution_count": 35,
   "metadata": {},
   "outputs": [
    {
     "name": "stdout",
     "output_type": "stream",
     "text": [
      "Unbiased accuracy on diff, RMSE: 0.8861\n"
     ]
    },
    {
     "data": {
      "text/plain": [
       "0.8861167207094062"
      ]
     },
     "execution_count": 35,
     "metadata": {},
     "output_type": "execute_result"
    }
   ],
   "source": [
    "data_diff = Dataset.load_from_df(diff[['compound_id', 'cell_id', 'interaction']], reader)\n",
    "# el conjunto de prueba es la diferencia entre las versiones 29 y 30\n",
    "testset = data_diff.construct_testset(data_diff.raw_ratings)  \n",
    "predictions = algo.test(testset)\n",
    "print('Unbiased accuracy on diff,', end=' ')\n",
    "accuracy.rmse(predictions)"
   ]
  },
  {
   "cell_type": "code",
   "execution_count": 36,
   "metadata": {},
   "outputs": [],
   "source": [
    "predictions_df = pd.DataFrame(predictions)\n",
    "predictions_df.to_csv(path_or_buf='predictions_df_29.csv', header=True, index=True)\n",
    "\n",
    "r = list(predictions_df['r_ui'])\n",
    "est = list(predictions_df['est'])\n",
    "\n",
    "pred_df = pd.DataFrame.from_dict({'r':r, 'est':est})"
   ]
  },
  {
   "cell_type": "markdown",
   "metadata": {
    "pycharm": {
     "name": "#%% md\n"
    }
   },
   "source": [
    "Plotting ROC curve"
   ]
  },
  {
   "cell_type": "code",
   "execution_count": 37,
   "metadata": {
    "pycharm": {
     "name": "#%%\n"
    }
   },
   "outputs": [
    {
     "name": "stdout",
     "output_type": "stream",
     "text": [
      "AUC: 0.774512048\n"
     ]
    },
    {
     "data": {
      "image/png": "[encoded data removed]",
      "text/plain": [
       "<Figure size 432x288 with 1 Axes>"
      ]
     },
     "metadata": {
      "needs_background": "light"
     },
     "output_type": "display_data"
    }
   ],
   "source": [
    "from sklearn import metrics\n",
    "\n",
    "fpr, tpr, thresholds = metrics.roc_curve(y_true=predictions_df['r_ui'], y_score=predictions_df['est'])\n",
    "auc = metrics.roc_auc_score(y_true=predictions_df['r_ui'], y_score=predictions_df['est'])\n",
    "print('AUC: %.9f' % auc)\n",
    "\n",
    "import matplotlib.pyplot as plt\n",
    "plt.plot(fpr, tpr, color='orange', label='ROC (area = %0.2f)' % auc)\n",
    "plt.plot([0, 1], [0, 1], color='darkblue', linestyle='--')\n",
    "plt.xlabel('False Positive Rate')\n",
    "plt.ylabel('True Positive Rate')\n",
    "plt.title('Receiver Operating Characteristic (ROC) Curve')\n",
    "plt.legend()\n",
    "plt.show()\n",
    "plt.savefig('aroc_v29v30.png')\n",
    "plt.close()"
   ]
  },
  {
   "cell_type": "code",
   "execution_count": 2,
   "metadata": {},
   "outputs": [],
   "source": [
    "data_interaction_v29 = pd.read_csv(filepath_or_buffer='predictions_df_29.csv', index_col=0)"
   ]
  },
  {
   "cell_type": "code",
   "execution_count": 3,
   "metadata": {},
   "outputs": [
    {
     "data": {
      "text/html": [
       "<div>\n",
       "<style scoped>\n",
       "    .dataframe tbody tr th:only-of-type {\n",
       "        vertical-align: middle;\n",
       "    }\n",
       "\n",
       "    .dataframe tbody tr th {\n",
       "        vertical-align: top;\n",
       "    }\n",
       "\n",
       "    .dataframe thead th {\n",
       "        text-align: right;\n",
       "    }\n",
       "</style>\n",
       "<table border=\"1\" class=\"dataframe\">\n",
       "  <thead>\n",
       "    <tr style=\"text-align: right;\">\n",
       "      <th></th>\n",
       "      <th>uid</th>\n",
       "      <th>iid</th>\n",
       "      <th>r_ui</th>\n",
       "      <th>est</th>\n",
       "      <th>details</th>\n",
       "    </tr>\n",
       "  </thead>\n",
       "  <tbody>\n",
       "    <tr>\n",
       "      <th>0</th>\n",
       "      <td>350494</td>\n",
       "      <td>754</td>\n",
       "      <td>1.0</td>\n",
       "      <td>0.646738</td>\n",
       "      <td>{'was_impossible': False}</td>\n",
       "    </tr>\n",
       "    <tr>\n",
       "      <th>1</th>\n",
       "      <td>363890</td>\n",
       "      <td>1430</td>\n",
       "      <td>1.0</td>\n",
       "      <td>0.012447</td>\n",
       "      <td>{'was_impossible': False}</td>\n",
       "    </tr>\n",
       "    <tr>\n",
       "      <th>2</th>\n",
       "      <td>363889</td>\n",
       "      <td>1430</td>\n",
       "      <td>1.0</td>\n",
       "      <td>0.012447</td>\n",
       "      <td>{'was_impossible': False}</td>\n",
       "    </tr>\n",
       "    <tr>\n",
       "      <th>3</th>\n",
       "      <td>363883</td>\n",
       "      <td>1430</td>\n",
       "      <td>1.0</td>\n",
       "      <td>0.012447</td>\n",
       "      <td>{'was_impossible': False}</td>\n",
       "    </tr>\n",
       "    <tr>\n",
       "      <th>4</th>\n",
       "      <td>363882</td>\n",
       "      <td>1430</td>\n",
       "      <td>1.0</td>\n",
       "      <td>0.012447</td>\n",
       "      <td>{'was_impossible': False}</td>\n",
       "    </tr>\n",
       "    <tr>\n",
       "      <th>...</th>\n",
       "      <td>...</td>\n",
       "      <td>...</td>\n",
       "      <td>...</td>\n",
       "      <td>...</td>\n",
       "      <td>...</td>\n",
       "    </tr>\n",
       "    <tr>\n",
       "      <th>72911</th>\n",
       "      <td>2536230</td>\n",
       "      <td>324</td>\n",
       "      <td>1.0</td>\n",
       "      <td>0.117374</td>\n",
       "      <td>{'was_impossible': False}</td>\n",
       "    </tr>\n",
       "    <tr>\n",
       "      <th>72912</th>\n",
       "      <td>2520968</td>\n",
       "      <td>324</td>\n",
       "      <td>1.0</td>\n",
       "      <td>0.117374</td>\n",
       "      <td>{'was_impossible': False}</td>\n",
       "    </tr>\n",
       "    <tr>\n",
       "      <th>72913</th>\n",
       "      <td>2516709</td>\n",
       "      <td>325</td>\n",
       "      <td>-1.0</td>\n",
       "      <td>0.105297</td>\n",
       "      <td>{'was_impossible': False}</td>\n",
       "    </tr>\n",
       "    <tr>\n",
       "      <th>72914</th>\n",
       "      <td>2521966</td>\n",
       "      <td>325</td>\n",
       "      <td>-1.0</td>\n",
       "      <td>0.105297</td>\n",
       "      <td>{'was_impossible': False}</td>\n",
       "    </tr>\n",
       "    <tr>\n",
       "      <th>72915</th>\n",
       "      <td>9459</td>\n",
       "      <td>559</td>\n",
       "      <td>1.0</td>\n",
       "      <td>-0.257812</td>\n",
       "      <td>{'was_impossible': False}</td>\n",
       "    </tr>\n",
       "  </tbody>\n",
       "</table>\n",
       "<p>72916 rows × 5 columns</p>\n",
       "</div>"
      ],
      "text/plain": [
       "           uid   iid  r_ui       est                    details\n",
       "0       350494   754   1.0  0.646738  {'was_impossible': False}\n",
       "1       363890  1430   1.0  0.012447  {'was_impossible': False}\n",
       "2       363889  1430   1.0  0.012447  {'was_impossible': False}\n",
       "3       363883  1430   1.0  0.012447  {'was_impossible': False}\n",
       "4       363882  1430   1.0  0.012447  {'was_impossible': False}\n",
       "...        ...   ...   ...       ...                        ...\n",
       "72911  2536230   324   1.0  0.117374  {'was_impossible': False}\n",
       "72912  2520968   324   1.0  0.117374  {'was_impossible': False}\n",
       "72913  2516709   325  -1.0  0.105297  {'was_impossible': False}\n",
       "72914  2521966   325  -1.0  0.105297  {'was_impossible': False}\n",
       "72915     9459   559   1.0 -0.257812  {'was_impossible': False}\n",
       "\n",
       "[72916 rows x 5 columns]"
      ]
     },
     "execution_count": 3,
     "metadata": {},
     "output_type": "execute_result"
    }
   ],
   "source": [
    "data_interaction_v29"
   ]
  },
  {
   "cell_type": "code",
   "execution_count": null,
   "metadata": {},
   "outputs": [],
   "source": []
  }
 ],
 "metadata": {
  "kernelspec": {
   "display_name": "Python 3 (ipykernel)",
   "language": "python",
   "name": "python3"
  },
  "language_info": {
   "codemirror_mode": {
    "name": "ipython",
    "version": 3
   },
   "file_extension": ".py",
   "mimetype": "text/x-python",
   "name": "python",
   "nbconvert_exporter": "python",
   "pygments_lexer": "ipython3",
   "version": "3.9.7"
  }
 },
 "nbformat": 4,
 "nbformat_minor": 1
}
